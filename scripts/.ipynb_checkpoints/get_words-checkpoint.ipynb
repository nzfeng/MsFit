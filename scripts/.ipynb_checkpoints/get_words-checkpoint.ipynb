{
 "cells": [
  {
   "cell_type": "code",
   "execution_count": 6,
   "id": "2e3ab776",
   "metadata": {},
   "outputs": [
    {
     "name": "stderr",
     "output_type": "stream",
     "text": [
      "[nltk_data] Downloading package wordnet to /Users/tigress/nltk_data...\n",
      "[nltk_data]   Package wordnet is already up-to-date!\n",
      "[nltk_data] Downloading package omw-1.4 to /Users/tigress/nltk_data...\n",
      "[nltk_data]   Package omw-1.4 is already up-to-date!\n",
      "[nltk_data] Downloading package punkt to /Users/tigress/nltk_data...\n",
      "[nltk_data]   Package punkt is already up-to-date!\n",
      "[nltk_data] Downloading package averaged_perceptron_tagger to\n",
      "[nltk_data]     /Users/tigress/nltk_data...\n",
      "[nltk_data]   Package averaged_perceptron_tagger is already up-to-\n",
      "[nltk_data]       date!\n",
      "[nltk_data] Downloading package maxent_ne_chunker to\n",
      "[nltk_data]     /Users/tigress/nltk_data...\n",
      "[nltk_data]   Package maxent_ne_chunker is already up-to-date!\n",
      "[nltk_data] Downloading package words to /Users/tigress/nltk_data...\n",
      "[nltk_data]   Package words is already up-to-date!\n"
     ]
    }
   ],
   "source": [
    "import numpy as np\n",
    "import glob\n",
    "import sys\n",
    "import time\n",
    "from itertools import chain\n",
    "\n",
    "import nltk\n",
    "nltk.download('wordnet')\n",
    "nltk.download('omw-1.4')\n",
    "nltk.download('punkt')\n",
    "nltk.download('averaged_perceptron_tagger')\n",
    "nltk.download('maxent_ne_chunker')\n",
    "nltk.download('words')\n",
    "from nltk.tokenize import SpaceTokenizer\n",
    "from nltk.corpus import wordnet as wn"
   ]
  },
  {
   "cell_type": "code",
   "execution_count": 34,
   "id": "9a9e2d74",
   "metadata": {},
   "outputs": [],
   "source": [
    "# A bunch of utility functions.\n",
    "\n",
    "def depunctuate(word, unwanted_chars=\"_'.,/;[]\\-=`~_+{}|:<>?()@#$%^&* \"):\n",
    "    '''\n",
    "    Remove all instances of each char in <unwanted_chars> from <word>.\n",
    "    <unwanted_chars> can be either a string or a list.\n",
    "    '''\n",
    "    \n",
    "    newWord = ''.join(i for i in word if not i in unwanted_chars)\n",
    "    return newWord\n",
    "\n",
    "def isAllDigits(word):\n",
    "    '''\n",
    "    Return True if the word consists solely of numbers.\n",
    "    '''\n",
    "    for letter in word:\n",
    "        if letter not in \"0123456789\":\n",
    "            return False\n",
    "    return True"
   ]
  },
  {
   "cell_type": "markdown",
   "id": "1783e0fe",
   "metadata": {},
   "source": [
    "# 1. Combine words from a bunch of datasets."
   ]
  },
  {
   "cell_type": "code",
   "execution_count": 21,
   "id": "7daabdbc",
   "metadata": {},
   "outputs": [],
   "source": [
    "unfiltered = []"
   ]
  },
  {
   "cell_type": "markdown",
   "id": "923c42db",
   "metadata": {},
   "source": [
    "## WordNet"
   ]
  },
  {
   "cell_type": "code",
   "execution_count": 22,
   "id": "5090b28f",
   "metadata": {},
   "outputs": [
    {
     "name": "stdout",
     "output_type": "stream",
     "text": [
      "148140\n"
     ]
    }
   ],
   "source": [
    "# https://stackoverflow.com/a/33538878\n",
    "lemmas_in_wn = set(chain(*[ss.lemma_names() for ss in wn.all_synsets()]))\n",
    "nLemmas = len(lemmas_in_wn)\n",
    "\n",
    "# Get rid of numbers.\n",
    "temp = []\n",
    "for lemma in lemmas_in_wn:\n",
    "    if not isAllDigits(lemma): temp.append(lemma)\n",
    "lemmas_in_wn = temp\n",
    "\n",
    "# Get rid of words less than 3 chars long.\n",
    "lemmas = [word for word in lemmas_in_wn if len(word) > 2]\n",
    "wordLengths = [len(word) for word in lemmas]\n",
    "minLength = min(wordLengths)\n",
    "maxLength = max(wordLengths)\n",
    "print(len(lemmas))\n",
    "\n",
    "unfiltered += lemmas"
   ]
  },
  {
   "cell_type": "code",
   "execution_count": 26,
   "id": "0895f3ab",
   "metadata": {},
   "outputs": [],
   "source": [
    "# Save just the WordNet words into 'scripts/prefilter_data/_.txt'\n",
    "incr = 1000\n",
    "for i in range(len(lemmas) // incr):\n",
    "    with open('./prefilter_data/wordnet_%d.txt' %i, 'w') as f:\n",
    "        for word in lemmas[incr*i:incr*(i+1)]:\n",
    "            f.write(word)\n",
    "            f.write(\"\\n\")"
   ]
  },
  {
   "cell_type": "markdown",
   "id": "614b470e",
   "metadata": {},
   "source": [
    "## Broda"
   ]
  },
  {
   "cell_type": "code",
   "execution_count": 23,
   "id": "a4a48364",
   "metadata": {},
   "outputs": [],
   "source": [
    "broda_list = []\n",
    "f = open('./raw_data/peter-broda-wordlist__scored.txt',\"r\")\n",
    "lines = f.read().splitlines() \n",
    "f.close()\n",
    "\n",
    "for line in lines:\n",
    "    (word, score) = line.split(\";\")\n",
    "    # Most of the smaller words are junk. Would rather just manually add my own.\n",
    "    if (len(word) >= 5): broda_list.append(word)\n",
    "        \n",
    "unfiltered += broda_list"
   ]
  },
  {
   "cell_type": "code",
   "execution_count": 24,
   "id": "c2b84427",
   "metadata": {},
   "outputs": [
    {
     "name": "stdout",
     "output_type": "stream",
     "text": [
      "657826\n"
     ]
    }
   ],
   "source": [
    "# Get rid of duplicates.\n",
    "temp = [depunctuate(word).upper() for word in unfiltered]\n",
    "temp = set(unfiltered)\n",
    "unfiltered = temp\n",
    "print(len(unfiltered))"
   ]
  },
  {
   "cell_type": "code",
   "execution_count": null,
   "id": "8fff93d0",
   "metadata": {},
   "outputs": [],
   "source": [
    "# Output original words to a bunch of files containing 1000 words each, \n",
    "# each titled \"scripts/raw_data/words_%n.txt\"."
   ]
  },
  {
   "cell_type": "code",
   "execution_count": 39,
   "id": "97dced08",
   "metadata": {},
   "outputs": [
    {
     "name": "stdout",
     "output_type": "stream",
     "text": [
      "Number of words: 4272\n",
      "Number of words: 4138\n",
      "min length: 3\t max length: 25\n"
     ]
    }
   ],
   "source": [
    "# Save de-punctuated, capitalized words from the filtered lists (the files I manually compiled)\n",
    "# into files sorted by category and wordlength (in that order of hierarchy) \n",
    "# under \"data\" (this is supposed to be the final version.)\n",
    "\n",
    "files = glob.glob('./filtered_data/*/*.txt', recursive = True)\n",
    "\n",
    "all_words = []\n",
    "for file in files:\n",
    "    f = open(file, 'r')\n",
    "    lines = f.read().splitlines() \n",
    "    f.close()\n",
    "    all_words += lines\n",
    "\n",
    "print(\"Number of words: %d\" %len(all_words))\n",
    "\n",
    "all_words = [depunctuate(word).upper() for word in all_words]\n",
    "all_words = set(all_words)\n",
    "print(\"Number of words: %d\" %len(all_words))\n",
    "\n",
    "# No categories for now. Just sort by wordlength.\n",
    "wordLengths = [len(word) for word in all_words]\n",
    "minLength = min(wordLengths)\n",
    "maxLength = max(wordLengths)\n",
    "print(\"min length: %d\\t max length: %d\" %(minLength,maxLength))\n",
    "\n",
    "for i in range(minLength, maxLength+1):\n",
    "    filename = \"../data/words_%d.txt\" %i\n",
    "    words = [word for word in all_words if len(word)==i]\n",
    "    \n",
    "    with open(filename, 'w') as f:\n",
    "        for word in words:\n",
    "            f.write(word)\n",
    "            f.write(\" \")"
   ]
  },
  {
   "cell_type": "code",
   "execution_count": null,
   "id": "3d6fa79a",
   "metadata": {},
   "outputs": [],
   "source": []
  }
 ],
 "metadata": {
  "kernelspec": {
   "display_name": "Python 3 (ipykernel)",
   "language": "python",
   "name": "python3"
  },
  "language_info": {
   "codemirror_mode": {
    "name": "ipython",
    "version": 3
   },
   "file_extension": ".py",
   "mimetype": "text/x-python",
   "name": "python",
   "nbconvert_exporter": "python",
   "pygments_lexer": "ipython3",
   "version": "3.8.9"
  }
 },
 "nbformat": 4,
 "nbformat_minor": 5
}
