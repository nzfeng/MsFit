{
 "cells": [
  {
   "cell_type": "code",
   "execution_count": 1,
   "id": "b81a3e62",
   "metadata": {},
   "outputs": [
    {
     "name": "stderr",
     "output_type": "stream",
     "text": [
      "[nltk_data] Downloading package wordnet to /Users/tigress/nltk_data...\n",
      "[nltk_data]   Package wordnet is already up-to-date!\n",
      "[nltk_data] Downloading package omw-1.4 to /Users/tigress/nltk_data...\n",
      "[nltk_data]   Package omw-1.4 is already up-to-date!\n",
      "[nltk_data] Downloading package punkt to /Users/tigress/nltk_data...\n",
      "[nltk_data]   Package punkt is already up-to-date!\n",
      "[nltk_data] Downloading package averaged_perceptron_tagger to\n",
      "[nltk_data]     /Users/tigress/nltk_data...\n",
      "[nltk_data]   Package averaged_perceptron_tagger is already up-to-\n",
      "[nltk_data]       date!\n",
      "[nltk_data] Downloading package maxent_ne_chunker to\n",
      "[nltk_data]     /Users/tigress/nltk_data...\n",
      "[nltk_data]   Package maxent_ne_chunker is already up-to-date!\n",
      "[nltk_data] Downloading package words to /Users/tigress/nltk_data...\n",
      "[nltk_data]   Package words is already up-to-date!\n"
     ]
    }
   ],
   "source": [
    "import numpy as np\n",
    "import glob\n",
    "import sys\n",
    "import time\n",
    "from itertools import chain\n",
    "\n",
    "import nltk\n",
    "nltk.download('wordnet')\n",
    "nltk.download('omw-1.4')\n",
    "nltk.download('punkt')\n",
    "nltk.download('averaged_perceptron_tagger')\n",
    "nltk.download('maxent_ne_chunker')\n",
    "nltk.download('words')\n",
    "from nltk.tokenize import SpaceTokenizer\n",
    "from nltk.corpus import wordnet as wn"
   ]
  },
  {
   "cell_type": "code",
   "execution_count": 2,
   "id": "32f81719",
   "metadata": {},
   "outputs": [],
   "source": [
    "# A bunch of utility functions.\n",
    "\n",
    "def depunctuate(word, unwanted_chars=\"_'.,/;[]\\-=`~_+{}|:<>?()@#$%^&* \"):\n",
    "    '''\n",
    "    Remove all instances of each char in <unwanted_chars> from <word>.\n",
    "    <unwanted_chars> can be either a string or a list.\n",
    "    '''\n",
    "    \n",
    "    newWord = ''.join(i for i in word if not i in unwanted_chars)\n",
    "    return newWord\n",
    "\n",
    "def isAllDigits(word):\n",
    "    '''\n",
    "    Return True if the word consists solely of numbers.\n",
    "    '''\n",
    "    for letter in word:\n",
    "        if letter not in \"0123456789\":\n",
    "            return False\n",
    "    return True"
   ]
  },
  {
   "cell_type": "markdown",
   "id": "387fca5f",
   "metadata": {},
   "source": [
    "# 1. Combine words from a bunch of datasets."
   ]
  },
  {
   "cell_type": "code",
   "execution_count": 21,
   "id": "1e95ddef",
   "metadata": {},
   "outputs": [],
   "source": [
    "unfiltered = []"
   ]
  },
  {
   "cell_type": "markdown",
   "id": "fdd7026c",
   "metadata": {},
   "source": [
    "## WordNet"
   ]
  },
  {
   "cell_type": "code",
   "execution_count": 22,
   "id": "174ef6d8",
   "metadata": {},
   "outputs": [
    {
     "name": "stdout",
     "output_type": "stream",
     "text": [
      "148140\n"
     ]
    }
   ],
   "source": [
    "# https://stackoverflow.com/a/33538878\n",
    "lemmas_in_wn = set(chain(*[ss.lemma_names() for ss in wn.all_synsets()]))\n",
    "nLemmas = len(lemmas_in_wn)\n",
    "\n",
    "# Get rid of numbers.\n",
    "temp = []\n",
    "for lemma in lemmas_in_wn:\n",
    "    if not isAllDigits(lemma): temp.append(lemma)\n",
    "lemmas_in_wn = temp\n",
    "\n",
    "# Get rid of words less than 3 chars long.\n",
    "lemmas = [word for word in lemmas_in_wn if len(word) > 2]\n",
    "wordLengths = [len(word) for word in lemmas]\n",
    "minLength = min(wordLengths)\n",
    "maxLength = max(wordLengths)\n",
    "print(len(lemmas))\n",
    "\n",
    "# unfiltered += lemmas"
   ]
  },
  {
   "cell_type": "code",
   "execution_count": 26,
   "id": "27d6f057",
   "metadata": {},
   "outputs": [],
   "source": [
    "# Save just the WordNet words into 'scripts/prefilter_data/_.txt'\n",
    "incr = 1000\n",
    "for i in range(len(lemmas) // incr):\n",
    "    with open('./prefilter_data/wordnet_%d.txt' %i, 'w') as f:\n",
    "        for word in lemmas[incr*i:incr*(i+1)]:\n",
    "            f.write(word)\n",
    "            f.write(\"\\n\")"
   ]
  },
  {
   "cell_type": "markdown",
   "id": "ef153f0d",
   "metadata": {},
   "source": [
    "## Broda"
   ]
  },
  {
   "cell_type": "code",
   "execution_count": 3,
   "id": "05e06657",
   "metadata": {},
   "outputs": [],
   "source": [
    "broda_list = []\n",
    "f = open('./raw_data/peter-broda-wordlist__scored.txt',\"r\")\n",
    "lines = f.read().splitlines() \n",
    "f.close()\n",
    "\n",
    "for line in lines:\n",
    "    (word, score) = line.split(\";\")\n",
    "    score = int(score)\n",
    "    # Most of the smaller words are junk. Would rather just manually add my own.\n",
    "    if (len(word) >= 5 and score >= 50): broda_list.append(word)\n",
    "        \n",
    "# unfiltered += broda_list"
   ]
  },
  {
   "cell_type": "code",
   "execution_count": 4,
   "id": "339e4bae",
   "metadata": {},
   "outputs": [
    {
     "name": "stdout",
     "output_type": "stream",
     "text": [
      "509740\n"
     ]
    }
   ],
   "source": [
    "# Get rid of duplicates.\n",
    "temp = [depunctuate(word).upper() for word in broda_list]\n",
    "temp = list(set(broda_list))\n",
    "broda_list = temp\n",
    "print(len(broda_list))"
   ]
  },
  {
   "cell_type": "code",
   "execution_count": 6,
   "id": "e2d5ba74",
   "metadata": {},
   "outputs": [],
   "source": [
    "# Save the Broda words into 'scripts/prefilter_data/_.txt'\n",
    "broda_list = sorted(broda_list, key=len)\n",
    "incr = 1000\n",
    "for i in range(len(broda_list) // incr):\n",
    "    with open('./prefilter_data/broda_%d.txt' %i, 'w') as f:\n",
    "        for word in broda_list[incr*i:incr*(i+1)]:\n",
    "            f.write(word)\n",
    "            f.write(\"\\n\")"
   ]
  },
  {
   "cell_type": "markdown",
   "id": "e9d4b834",
   "metadata": {},
   "source": [
    "# Generate final wordlist"
   ]
  },
  {
   "cell_type": "code",
   "execution_count": 3,
   "id": "bcff41c1",
   "metadata": {},
   "outputs": [
    {
     "name": "stdout",
     "output_type": "stream",
     "text": [
      "Number of words: 8656\n",
      "Number of words: 6665\n",
      "min length: 0\t max length: 31\n",
      "# of words of length 0: 1\n",
      "# of words of length 1: 0\n",
      "# of words of length 2: 8\n",
      "# of words of length 3: 388\n",
      "# of words of length 4: 391\n",
      "# of words of length 5: 487\n",
      "# of words of length 6: 792\n",
      "# of words of length 7: 898\n",
      "# of words of length 8: 967\n",
      "# of words of length 9: 590\n",
      "# of words of length 10: 544\n",
      "# of words of length 11: 385\n",
      "# of words of length 12: 318\n",
      "# of words of length 13: 194\n",
      "# of words of length 14: 328\n",
      "# of words of length 15: 100\n",
      "# of words of length 16: 69\n",
      "# of words of length 17: 48\n",
      "# of words of length 18: 22\n",
      "# of words of length 19: 18\n",
      "# of words of length 20: 6\n",
      "# of words of length 21: 10\n",
      "# of words of length 22: 5\n",
      "# of words of length 23: 3\n",
      "# of words of length 24: 2\n",
      "# of words of length 25: 3\n",
      "# of words of length 26: 1\n",
      "# of words of length 27: 25\n",
      "# of words of length 28: 34\n",
      "# of words of length 29: 16\n",
      "# of words of length 30: 11\n",
      "# of words of length 31: 1\n"
     ]
    }
   ],
   "source": [
    "# Save de-punctuated, capitalized words from the filtered lists (the files I manually compiled)\n",
    "# into files sorted by category and wordlength (in that order of hierarchy) \n",
    "# under \"data\" (this is supposed to be the final version.)\n",
    "\n",
    "files = glob.glob('./filtered_data/*/*.txt', recursive = True)\n",
    "\n",
    "all_words = []\n",
    "for file in files:\n",
    "    f = open(file, 'r')\n",
    "    lines = f.read().splitlines() \n",
    "    f.close()\n",
    "    all_words += lines\n",
    "\n",
    "print(\"Number of words: %d\" %len(all_words))\n",
    "\n",
    "all_words = [depunctuate(word).upper() for word in all_words]\n",
    "all_words = set(all_words)\n",
    "print(\"Number of words: %d\" %len(all_words))\n",
    "\n",
    "# No categories for now. Just sort by wordlength.\n",
    "wordLengths = [len(word) for word in all_words]\n",
    "minLength = min(wordLengths)\n",
    "maxLength = max(wordLengths)\n",
    "print(\"min length: %d\\t max length: %d\" %(minLength,maxLength))\n",
    "\n",
    "for i in range(minLength,maxLength+1):\n",
    "    n = len([word for word in all_words if len(word)==i])\n",
    "    print(\"# of words of length %d: %d\" %(i, n))\n",
    "\n",
    "for i in range(minLength, maxLength+1):\n",
    "    filename = \"../data/words_%d.txt\" %i\n",
    "    words = [word for word in all_words if len(word)==i]\n",
    "    \n",
    "    with open(filename, 'w') as f:\n",
    "        for word in words:\n",
    "            f.write(word)\n",
    "            f.write(\"\\n\")"
   ]
  },
  {
   "cell_type": "markdown",
   "id": "2c38be52",
   "metadata": {},
   "source": [
    "# Auxiliary"
   ]
  },
  {
   "cell_type": "code",
   "execution_count": 33,
   "id": "2ec18cc9",
   "metadata": {},
   "outputs": [
    {
     "name": "stdout",
     "output_type": "stream",
     "text": [
      "Number of words: 1305\n",
      "Number of words: 12442\n",
      "Number of words: 11137\n"
     ]
    }
   ],
   "source": [
    "# Get only Broda words of length 4. Compare against the finalized words we have so far.\n",
    "\n",
    "N = 4\n",
    "\n",
    "files = glob.glob('./filtered_data/*/*.txt', recursive = True)\n",
    "all_words = []\n",
    "for file in files:\n",
    "    f = open(file, 'r')\n",
    "    lines = f.read().splitlines() \n",
    "    f.close()\n",
    "    all_words += lines\n",
    "\n",
    "all_words = [depunctuate(word).upper() for word in all_words]\n",
    "all_words = [word for word in all_words if len(word)==N]\n",
    "all_words = set(all_words)\n",
    "print(\"Number of words: %d\" %len(all_words))\n",
    "\n",
    "broda_words = []\n",
    "f = open('./raw_data/peter-broda-wordlist__scored.txt',\"r\")\n",
    "lines = f.read().splitlines() \n",
    "f.close()\n",
    "\n",
    "for line in lines:\n",
    "    (word, score) = line.split(\";\")\n",
    "    score = int(score)\n",
    "    if (len(word) == N): broda_words.append(word)\n",
    "\n",
    "broda_words = set(broda_words)\n",
    "print(\"Number of words: %d\" %len(broda_words))\n",
    "\n",
    "final_words = []\n",
    "for word in broda_words:\n",
    "    if word in all_words: continue\n",
    "    final_words.append(word)\n",
    "    \n",
    "print(\"Number of words: %d\" %len(final_words))\n",
    "\n",
    "# incr = 1000\n",
    "# offset = 4000\n",
    "# nFiles = len(final_words) // incr + 1\n",
    "# for i in range(nFiles):\n",
    "#     with open('./prefilter_data/broda_%d.txt' %(offset+i), 'w') as f:\n",
    "#         if i == nFiles-1: \n",
    "#             for word in final_words[incr*i:]:\n",
    "#                 f.write(word)\n",
    "#                 f.write(\"\\n\")\n",
    "#         else:\n",
    "#             for word in final_words[incr*i:incr*(i+1)]:\n",
    "#                 f.write(word)\n",
    "#                 f.write(\"\\n\")\n",
    "\n",
    "# Get the last words past 12000 that I forgot before\n",
    "# incr = 1000\n",
    "# offset = 4000\n",
    "# nFiles = len(final_words) // incr + 1\n",
    "# i = nFiles-1\n",
    "# with open('./prefilter_data/broda_4012.txt', 'w') as f:\n",
    "#     for word in final_words[incr*i:]:\n",
    "#         f.write(word)\n",
    "#         f.write(\"\\n\")"
   ]
  },
  {
   "cell_type": "code",
   "execution_count": 21,
   "id": "42b3acff",
   "metadata": {},
   "outputs": [
    {
     "name": "stdout",
     "output_type": "stream",
     "text": [
      "Number of words: 914\n",
      "Number of words: 9295\n",
      "nScoredWereFiltered: 912\n",
      "nFilteredWithHighScores: 912\n",
      "Precision: 0.098117\n",
      "Recall: 0.997812\n",
      "['USPS', 'HEME']\n"
     ]
    }
   ],
   "source": [
    "# After filtering some Broda words, determine how accurate the given scores are.\n",
    "\n",
    "N = 4\n",
    "# Get all filtered 4-letter words.\n",
    "files = glob.glob('./filtered_data/broda/filtered_broda_4???.txt', recursive = True)\n",
    "all_words = []\n",
    "for file in files:\n",
    "    f = open(file, 'r')\n",
    "    lines = f.read().splitlines() \n",
    "    f.close()\n",
    "    all_words += lines\n",
    "\n",
    "all_words = [depunctuate(word).upper() for word in all_words]\n",
    "all_words = [word for word in all_words if len(word)==N]\n",
    "all_words = set(all_words)\n",
    "print(\"Number of words: %d\" %len(all_words))\n",
    "\n",
    "broda_words = []\n",
    "f = open('./raw_data/peter-broda-wordlist__scored.txt',\"r\")\n",
    "lines = f.read().splitlines() \n",
    "f.close()\n",
    "\n",
    "for line in lines:\n",
    "    (word, score) = line.split(\";\")\n",
    "    score = int(score)\n",
    "    if (len(word) == N and score >= 50): broda_words.append(word)\n",
    "\n",
    "broda_words = set(broda_words)\n",
    "print(\"Number of words: %d\" %len(broda_words))\n",
    "\n",
    "nFilteredWithHighScores = 0\n",
    "filteredWithLowScores = []\n",
    "nScoredWereFiltered = 0\n",
    "for word in broda_words:\n",
    "    if word in all_words: nScoredWereFiltered += 1\n",
    "for word in all_words:\n",
    "    if word in broda_words: nFilteredWithHighScores += 1\n",
    "    else: filteredWithLowScores.append(word)\n",
    "\n",
    "print(\"nScoredWereFiltered: %d\" %nScoredWereFiltered)\n",
    "print(\"nFilteredWithHighScores: %d\" %nFilteredWithHighScores)\n",
    "print(\"Precision: %f\" %(nScoredWereFiltered/len(broda_words)))\n",
    "print(\"Recall: %f\" %(nFilteredWithHighScores/len(all_words)))\n",
    "print(filteredWithLowScores)"
   ]
  },
  {
   "cell_type": "code",
   "execution_count": 34,
   "id": "ef4a7b83",
   "metadata": {},
   "outputs": [
    {
     "name": "stdout",
     "output_type": "stream",
     "text": [
      "Number of words: 5067\n",
      "Number of words: 3687\n"
     ]
    }
   ],
   "source": [
    "# Winnow down the remaining un-filtered Broda words to ones with scores >= 50,\n",
    "# since it was determined above that all words that I like have scores at least 50.\n",
    "\n",
    "N = 4\n",
    "# Get all filtered 4-letter words.\n",
    "files = glob.glob('./prefilter_data/broda_4???.txt', recursive = True)\n",
    "all_words = []\n",
    "for file in files:\n",
    "    f = open(file, 'r')\n",
    "    lines = f.read().splitlines() \n",
    "    f.close()\n",
    "    all_words += lines\n",
    "\n",
    "all_words = [depunctuate(word).upper() for word in all_words]\n",
    "all_words = [word for word in all_words if len(word)==N]\n",
    "all_words = set(all_words)\n",
    "print(\"Number of words: %d\" %len(all_words))\n",
    "\n",
    "broda_words = []\n",
    "f = open('./raw_data/peter-broda-wordlist__scored.txt',\"r\")\n",
    "lines = f.read().splitlines() \n",
    "f.close()\n",
    "\n",
    "for line in lines:\n",
    "    (word, score) = line.split(\";\")\n",
    "    score = int(score)\n",
    "    if (len(word) == N and (word in all_words) and score >= 50): broda_words.append(word)\n",
    "\n",
    "broda_words = list(set(broda_words))\n",
    "print(\"Number of words: %d\" %len(broda_words))\n",
    "\n",
    "incr = 1000\n",
    "offset = 4013\n",
    "nFiles = len(broda_words) // incr + 1\n",
    "for i in range(nFiles):\n",
    "    with open('./prefilter_data/broda_%d.txt' %(offset+i), 'w') as f:\n",
    "        if i == nFiles-1: \n",
    "            for word in broda_words[incr*i:]:\n",
    "                f.write(word)\n",
    "                f.write(\"\\n\")\n",
    "        else:\n",
    "            for word in broda_words[incr*i:incr*(i+1)]:\n",
    "                f.write(word)\n",
    "                f.write(\"\\n\")"
   ]
  },
  {
   "cell_type": "code",
   "execution_count": 38,
   "id": "7ed1c670",
   "metadata": {},
   "outputs": [
    {
     "name": "stdout",
     "output_type": "stream",
     "text": [
      "Number of filtered words: 1278\n",
      "416104\n"
     ]
    }
   ],
   "source": [
    "# Re-save rest of Broda words, but add 50+ score filter\n",
    "\n",
    "# Get all filtered words so far.\n",
    "files = glob.glob('./filtered_data/broda/filtered_*.txt', recursive = True)\n",
    "all_words = []\n",
    "for file in files:\n",
    "    f = open(file, 'r')\n",
    "    lines = f.read().splitlines() \n",
    "    f.close()\n",
    "    all_words += lines\n",
    "\n",
    "all_words = [depunctuate(word).upper() for word in all_words]\n",
    "all_words = [word for word in all_words if len(word)==N]\n",
    "all_words = set(all_words)\n",
    "print(\"Number of filtered words: %d\" %len(all_words))\n",
    "\n",
    "\n",
    "# Get remaining Broda words.\n",
    "broda_list = []\n",
    "f = open('./raw_data/peter-broda-wordlist__scored.txt',\"r\")\n",
    "lines = f.read().splitlines() \n",
    "f.close()\n",
    "\n",
    "for line in lines:\n",
    "    (word, score) = line.split(\";\")\n",
    "    score = int(score)\n",
    "    # Most of the smaller words are junk. Would rather just manually add my own.\n",
    "    if (len(word) >= 6 and (word not in all_words) and score >= 50): broda_list.append(word)\n",
    "        \n",
    "# Get rid of duplicates.\n",
    "temp = [depunctuate(word).upper() for word in broda_list]\n",
    "temp = list(set(broda_list))\n",
    "broda_list = temp\n",
    "print(len(broda_list))\n",
    "        \n",
    "broda_list = sorted(broda_list, key=len)\n",
    "incr = 1000\n",
    "nFiles = len(broda_words) // incr + 1\n",
    "for i in range(len(broda_list) // incr):\n",
    "    with open('./prefilter_data/broda_%d.txt' %i, 'w') as f:\n",
    "        if i == nFiles-1: \n",
    "            for word in broda_words[incr*i:]:\n",
    "                f.write(word)\n",
    "                f.write(\"\\n\")\n",
    "        else:\n",
    "            for word in broda_words[incr*i:incr*(i+1)]:\n",
    "                f.write(word)\n",
    "                f.write(\"\\n\")"
   ]
  },
  {
   "cell_type": "code",
   "execution_count": null,
   "id": "06f7be74",
   "metadata": {},
   "outputs": [],
   "source": []
  }
 ],
 "metadata": {
  "kernelspec": {
   "display_name": "Python 3 (ipykernel)",
   "language": "python",
   "name": "python3"
  },
  "language_info": {
   "codemirror_mode": {
    "name": "ipython",
    "version": 3
   },
   "file_extension": ".py",
   "mimetype": "text/x-python",
   "name": "python",
   "nbconvert_exporter": "python",
   "pygments_lexer": "ipython3",
   "version": "3.8.9"
  }
 },
 "nbformat": 4,
 "nbformat_minor": 5
}
